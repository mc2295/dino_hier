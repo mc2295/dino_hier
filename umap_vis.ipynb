{
 "cells": [
  {
   "cell_type": "code",
   "execution_count": null,
   "metadata": {},
   "outputs": [],
   "source": [
    "from pathlib import Path\n",
    "import h5py\n",
    "import numpy as np"
   ]
  },
  {
   "cell_type": "code",
   "execution_count": null,
   "metadata": {},
   "outputs": [],
   "source": [
    "feature_dir = Path('/lustre/groups/shared/users/peng_marr/DinoBloomv2/vits_3M_350k_bs416_0.1ce+supcon_mlp_rbc/train_embeddings')"
   ]
  },
  {
   "cell_type": "code",
   "execution_count": null,
   "metadata": {},
   "outputs": [],
   "source": [
    "datasets = [\n",
    "    'bm_train_patches',\n",
    "    'bozdas_patches',\n",
    "    'mll_mil_train_patches',\n",
    "    'krd_wbc_patches',\n",
    "    'ldwbc_patches',\n",
    "    'lisc_refactor_patches',\n",
    "    'matek_patches',\n",
    "]\n",
    "h5_datasets = [list(feature_dir.glob(f'{dataset}*.h5'))[0] for dataset in datasets]"
   ]
  },
  {
   "cell_type": "code",
   "execution_count": null,
   "metadata": {},
   "outputs": [],
   "source": [
    "# all features\n",
    "h5_datasets = list(feature_dir.glob('*.h5'))\n",
    "datasets = [h5.name.split('_embeddings')[0] for h5 in h5_datasets]\n",
    "domain_labels = {dataset: i for i, dataset in enumerate(set(datasets))}"
   ]
  },
  {
   "cell_type": "code",
   "execution_count": null,
   "metadata": {},
   "outputs": [],
   "source": [
    "h5_datasets = [h5py.File(h5_dataset, 'r') for h5_dataset in h5_datasets]"
   ]
  },
  {
   "cell_type": "code",
   "execution_count": null,
   "metadata": {},
   "outputs": [],
   "source": [
    "features = np.concatenate([h5_dataset['features'] for h5_dataset in h5_datasets], axis=0)\n",
    "labels = np.concatenate([h5_dataset['labels'] for h5_dataset in h5_datasets], axis=0)"
   ]
  },
  {
   "cell_type": "code",
   "execution_count": null,
   "metadata": {},
   "outputs": [],
   "source": [
    "# domain_labels = [np.ones(len(dataset['features'])) * idx for idx, dataset in enumerate(h5_datasets)]\n",
    "domain_labels = [np.ones(len(data['features'])) * domain_labels[name] for name, data in zip(datasets, h5_datasets)]\n",
    "domain_labels = np.concatenate(domain_labels)"
   ]
  },
  {
   "cell_type": "code",
   "execution_count": null,
   "metadata": {},
   "outputs": [],
   "source": [
    "features.shape, labels.shape, domain_labels.shape"
   ]
  },
  {
   "cell_type": "code",
   "execution_count": null,
   "metadata": {},
   "outputs": [],
   "source": [
    "# plot two umaps, one with labels and one with domain labels\n",
    "import umap\n",
    "import matplotlib.pyplot as plt\n",
    "\n",
    "reducer = umap.UMAP()\n",
    "embedding = reducer.fit_transform(features)"
   ]
  },
  {
   "cell_type": "code",
   "execution_count": null,
   "metadata": {},
   "outputs": [],
   "source": [
    "# randomly permute embeddings, labels, and domain_labels\n",
    "perm = np.random.permutation(len(embedding))\n",
    "embedding = embedding[perm]\n",
    "labels = labels[perm]\n",
    "domain_labels = domain_labels[perm]"
   ]
  },
  {
   "cell_type": "code",
   "execution_count": null,
   "metadata": {},
   "outputs": [],
   "source": [
    "import matplotlib.pyplot as plt\n",
    "import matplotlib.colors as mcolors\n",
    "import numpy as np\n",
    "\n",
    "# Create a custom color map where -1 is grey and other values use a categorical colormap\n",
    "unique_labels = np.unique(labels)\n",
    "cmap = plt.cm.get_cmap('tab10', len(unique_labels))  # 'tab10' is a categorical colormap\n",
    "\n",
    "# Create a color array based on labels\n",
    "color_array = np.array([cmap(i) if val != -1 else (0.5, 0.5, 0.5, 1) for i, val in enumerate(unique_labels)])\n",
    "\n",
    "# Prepare colors based on the labels\n",
    "colors = np.array([color_array[np.where(unique_labels == label)[0][0]] if label != -1 else (0.5, 0.5, 0.5, 1) for label in labels])\n",
    "\n",
    "# Prepare colors based on domain labels\n",
    "# domain_colors = np.array([color_array[np.where(np.unique(domain_labels) == label)[0][0]] if label != -1 else (0.5, 0.5, 0.5, 1) for label in domain_labels])\n",
    "\n",
    "fig, ax = plt.subplots(1, 2, figsize=(20, 10))\n",
    "\n",
    "# First subplot\n",
    "sc1 = ax[0].scatter(embedding[:, 0], embedding[:, 1], c=colors, s=1, alpha=0.7)\n",
    "ax[0].set_aspect('equal', 'datalim')\n",
    "ax[0].set_title('Class labels', fontsize=24)\n",
    "\n",
    "# Second subplot\n",
    "sc2 = ax[1].scatter(embedding[:, 0], embedding[:, 1], c=domain_labels, cmap='twilight', s=1, alpha=0.7)\n",
    "ax[1].set_aspect('equal', 'datalim')\n",
    "ax[1].set_title('Domain labels', fontsize=24)\n",
    "\n",
    "plt.show()\n"
   ]
  },
  {
   "cell_type": "code",
   "execution_count": null,
   "metadata": {},
   "outputs": [],
   "source": []
  },
  {
   "cell_type": "code",
   "execution_count": null,
   "metadata": {},
   "outputs": [],
   "source": []
  }
 ],
 "metadata": {
  "kernelspec": {
   "display_name": "dinobloom",
   "language": "python",
   "name": "python3"
  },
  "language_info": {
   "codemirror_mode": {
    "name": "ipython",
    "version": 3
   },
   "file_extension": ".py",
   "mimetype": "text/x-python",
   "name": "python",
   "nbconvert_exporter": "python",
   "pygments_lexer": "ipython3",
   "version": "3.10.14"
  }
 },
 "nbformat": 4,
 "nbformat_minor": 2
}
